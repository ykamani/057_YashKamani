{
  "nbformat": 4,
  "nbformat_minor": 0,
  "metadata": {
    "colab": {
      "name": "Untitled8.ipynb",
      "provenance": [],
      "collapsed_sections": []
    },
    "kernelspec": {
      "name": "python3",
      "display_name": "Python 3"
    },
    "language_info": {
      "name": "python"
    }
  },
  "cells": [
    {
      "cell_type": "code",
      "metadata": {
        "id": "0_1_5NPH0zI1"
      },
      "source": [
        "# importing libraries\n",
        "\n",
        "import pandas as pd\n",
        "import numpy as np\n",
        "import matplotlib.pyplot as plt \n",
        "\n",
        "# model\n",
        "from sklearn.cluster import KMeans \n",
        "from sklearn.preprocessing import StandardScaler"
      ],
      "execution_count": 51,
      "outputs": []
    },
    {
      "cell_type": "code",
      "metadata": {
        "colab": {
          "base_uri": "https://localhost:8080/"
        },
        "id": "NvVpfq0a1X1d",
        "outputId": "9c55985e-f8a9-4aee-be96-f46bc5fcadb0"
      },
      "source": [
        "from sklearn import datasets\n",
        "\n",
        "dataset=datasets.load_breast_cancer()\n",
        "dataset\n",
        "\n",
        "print(dataset.data.shape)\n",
        "print(dataset.target.shape)"
      ],
      "execution_count": 52,
      "outputs": [
        {
          "output_type": "stream",
          "name": "stdout",
          "text": [
            "(569, 30)\n",
            "(569,)\n"
          ]
        }
      ]
    },
    {
      "cell_type": "code",
      "metadata": {
        "colab": {
          "base_uri": "https://localhost:8080/"
        },
        "id": "XmmDAOzE17vD",
        "outputId": "d6451b74-18d3-4cc5-ca13-3fcbce156b17"
      },
      "source": [
        "print(dataset.feature_names)"
      ],
      "execution_count": 53,
      "outputs": [
        {
          "output_type": "stream",
          "name": "stdout",
          "text": [
            "['mean radius' 'mean texture' 'mean perimeter' 'mean area'\n",
            " 'mean smoothness' 'mean compactness' 'mean concavity'\n",
            " 'mean concave points' 'mean symmetry' 'mean fractal dimension'\n",
            " 'radius error' 'texture error' 'perimeter error' 'area error'\n",
            " 'smoothness error' 'compactness error' 'concavity error'\n",
            " 'concave points error' 'symmetry error' 'fractal dimension error'\n",
            " 'worst radius' 'worst texture' 'worst perimeter' 'worst area'\n",
            " 'worst smoothness' 'worst compactness' 'worst concavity'\n",
            " 'worst concave points' 'worst symmetry' 'worst fractal dimension']\n"
          ]
        }
      ]
    },
    {
      "cell_type": "code",
      "metadata": {
        "colab": {
          "base_uri": "https://localhost:8080/"
        },
        "id": "2UKERde61_Pe",
        "outputId": "f78a35c9-ecf5-467e-f538-bd25ef34f664"
      },
      "source": [
        "print(dataset.target_names)"
      ],
      "execution_count": 54,
      "outputs": [
        {
          "output_type": "stream",
          "name": "stdout",
          "text": [
            "['malignant' 'benign']\n"
          ]
        }
      ]
    },
    {
      "cell_type": "code",
      "metadata": {
        "colab": {
          "base_uri": "https://localhost:8080/"
        },
        "id": "YrHRRCPN2Nb6",
        "outputId": "11e49129-2a6d-443e-d47b-3a6c6de0d47d"
      },
      "source": [
        "print(dataset.data[0:2])\n",
        "print(dataset.target[0:2])\n"
      ],
      "execution_count": 55,
      "outputs": [
        {
          "output_type": "stream",
          "name": "stdout",
          "text": [
            "[[1.799e+01 1.038e+01 1.228e+02 1.001e+03 1.184e-01 2.776e-01 3.001e-01\n",
            "  1.471e-01 2.419e-01 7.871e-02 1.095e+00 9.053e-01 8.589e+00 1.534e+02\n",
            "  6.399e-03 4.904e-02 5.373e-02 1.587e-02 3.003e-02 6.193e-03 2.538e+01\n",
            "  1.733e+01 1.846e+02 2.019e+03 1.622e-01 6.656e-01 7.119e-01 2.654e-01\n",
            "  4.601e-01 1.189e-01]\n",
            " [2.057e+01 1.777e+01 1.329e+02 1.326e+03 8.474e-02 7.864e-02 8.690e-02\n",
            "  7.017e-02 1.812e-01 5.667e-02 5.435e-01 7.339e-01 3.398e+00 7.408e+01\n",
            "  5.225e-03 1.308e-02 1.860e-02 1.340e-02 1.389e-02 3.532e-03 2.499e+01\n",
            "  2.341e+01 1.588e+02 1.956e+03 1.238e-01 1.866e-01 2.416e-01 1.860e-01\n",
            "  2.750e-01 8.902e-02]]\n",
            "[0 0]\n"
          ]
        }
      ]
    },
    {
      "cell_type": "code",
      "metadata": {
        "colab": {
          "base_uri": "https://localhost:8080/"
        },
        "id": "V9hQufNu2wLx",
        "outputId": "e82de9de-189d-497f-dd3e-12786a0cb4b7"
      },
      "source": [
        "print(dataset.data[284:286])\n",
        "print(dataset.target[284:286])"
      ],
      "execution_count": 56,
      "outputs": [
        {
          "output_type": "stream",
          "name": "stdout",
          "text": [
            "[[1.289e+01 1.570e+01 8.408e+01 5.166e+02 7.818e-02 9.580e-02 1.115e-01\n",
            "  3.390e-02 1.432e-01 5.935e-02 2.913e-01 1.389e+00 2.347e+00 2.329e+01\n",
            "  6.418e-03 3.961e-02 7.927e-02 1.774e-02 1.878e-02 3.696e-03 1.390e+01\n",
            "  1.969e+01 9.212e+01 5.956e+02 9.926e-02 2.317e-01 3.344e-01 1.017e-01\n",
            "  1.999e-01 7.127e-02]\n",
            " [1.258e+01 1.840e+01 7.983e+01 4.890e+02 8.393e-02 4.216e-02 1.860e-03\n",
            "  2.924e-03 1.697e-01 5.855e-02 2.719e-01 1.350e+00 1.721e+00 2.245e+01\n",
            "  6.383e-03 8.008e-03 1.860e-03 2.924e-03 2.571e-02 2.015e-03 1.350e+01\n",
            "  2.308e+01 8.556e+01 5.641e+02 1.038e-01 6.624e-02 5.579e-03 8.772e-03\n",
            "  2.505e-01 6.431e-02]]\n",
            "[1 1]\n"
          ]
        }
      ]
    },
    {
      "cell_type": "code",
      "metadata": {
        "colab": {
          "base_uri": "https://localhost:8080/",
          "height": 279
        },
        "id": "Z-jgDI_V7KCX",
        "outputId": "30962b02-4260-407a-f75a-ad880c3f2ef8"
      },
      "source": [
        "# 0 for benign and 1 for malignant\n",
        "\n",
        "plt.scatter(dataset.data[:, 0], dataset.target, c='blue', marker='.')\n",
        "plt.xlabel('Features')\n",
        "plt.ylabel('Type of Cancer')\n",
        "plt.show()"
      ],
      "execution_count": 57,
      "outputs": [
        {
          "output_type": "display_data",
          "data": {
            "image/png": "[encoded data removed]",
            "text/plain": [
              "<Figure size 432x288 with 1 Axes>"
            ]
          },
          "metadata": {
            "needs_background": "light"
          }
        }
      ]
    },
    {
      "cell_type": "code",
      "metadata": {
        "colab": {
          "base_uri": "https://localhost:8080/"
        },
        "id": "gBjqKJ5-5v7U",
        "outputId": "b50c08ab-831d-454a-f2bf-8eed76da5d2c"
      },
      "source": [
        "\n",
        "# creating a model\n",
        "kmeans = KMeans(n_clusters = 7, random_state = 57)\n",
        "\n",
        "# prediction\n",
        "prediction = kmeans.fit_predict(dataset.data)\n",
        "print(prediction)"
      ],
      "execution_count": 58,
      "outputs": [
        {
          "output_type": "stream",
          "name": "stdout",
          "text": [
            "[1 1 3 6 3 2 3 2 2 6 5 5 5 2 2 2 5 5 1 2 6 0 2 1 1 5 2 3 5 5 3 2 5 3 5 5 2\n",
            " 6 2 2 2 6 3 2 2 3 0 2 6 2 6 6 6 5 2 6 1 2 6 0 0 0 2 0 2 2 0 6 0 6 3 0 3 2\n",
            " 6 5 6 3 3 6 6 6 4 5 6 3 2 3 6 2 2 2 2 2 2 3 6 0 6 2 2 0 6 0 0 2 6 6 1 6 0\n",
            " 6 2 0 0 6 0 5 5 5 6 3 1 2 6 2 2 3 2 3 6 5 5 2 3 6 6 6 2 0 0 5 6 6 0 6 6 2\n",
            " 2 2 6 0 0 0 6 6 5 5 6 6 6 3 1 6 1 2 0 5 3 2 6 2 5 0 0 0 0 5 6 6 4 1 5 6 2\n",
            " 0 5 6 6 6 2 6 0 2 2 6 2 5 3 2 6 5 1 5 6 2 0 5 6 2 3 6 4 5 2 2 6 0 1 1 2 2\n",
            " 0 5 2 2 0 2 6 2 5 6 6 1 0 2 4 3 2 5 2 6 6 2 3 0 6 6 0 6 1 6 1 5 1 2 1 2 5\n",
            " 5 3 5 5 2 5 4 0 6 6 0 2 6 1 0 5 6 6 5 2 2 3 6 3 5 6 6 6 6 0 6 2 2 6 6 6 2\n",
            " 0 6 2 0 1 6 3 0 6 6 6 0 2 6 6 2 6 6 0 6 6 3 0 6 0 3 6 1 6 6 2 6 5 5 5 6 0\n",
            " 6 6 5 6 3 0 4 2 0 0 3 6 0 6 2 6 6 6 2 4 5 6 6 6 2 0 0 6 6 6 5 6 3 3 6 4 1\n",
            " 5 2 3 1 2 2 0 2 2 6 6 0 6 6 6 2 6 2 6 5 0 0 5 1 6 2 2 6 6 6 5 6 6 6 6 6 2\n",
            " 6 5 6 6 6 0 2 2 6 0 3 6 6 6 2 6 2 0 0 0 6 0 6 2 6 3 3 2 2 6 2 2 2 6 5 2 0\n",
            " 5 6 5 2 2 1 6 3 6 2 6 2 6 6 6 0 3 4 2 6 2 2 2 0 5 6 0 6 2 6 0 6 2 2 6 2 6\n",
            " 2 6 2 2 6 2 3 6 5 6 5 5 6 6 2 6 6 3 3 2 2 6 4 0 0 6 0 2 2 6 2 2 2 2 6 3 3\n",
            " 6 6 0 4 0 2 0 0 2 6 2 6 6 6 2 3 0 3 2 6 0 0 6 2 2 6 2 2 0 0 0 6 0 0 6 0 6\n",
            " 0 0 0 2 6 2 0 2 3 1 3 5 3 0]\n"
          ]
        }
      ]
    },
    {
      "cell_type": "code",
      "metadata": {
        "colab": {
          "base_uri": "https://localhost:8080/"
        },
        "id": "lE86DpHx6IPb",
        "outputId": "dcdecd04-a15e-4749-d249-a8fed44e18f8"
      },
      "source": [
        "\n",
        "# shape of clusters\n",
        "\n",
        "print(\"\\nshapes of clustering\\n\")\n",
        "print(kmeans.cluster_centers_.shape)\n",
        "\n",
        "print(\"\\nclusters\\n\")\n",
        "print(kmeans.cluster_centers_)"
      ],
      "execution_count": 59,
      "outputs": [
        {
          "output_type": "stream",
          "name": "stdout",
          "text": [
            "\n",
            "shapes of clustering\n",
            "\n",
            "(7, 30)\n",
            "\n",
            "clusters\n",
            "\n",
            "[[9.87515385e+00 1.78310989e+01 6.31275824e+01 2.99732967e+02\n",
            "  9.64635165e-02 8.09469231e-02 4.46973846e-02 1.89206154e-02\n",
            "  1.83812088e-01 6.83807692e-02 2.95191209e-01 1.51460549e+00\n",
            "  2.02103187e+00 1.79611868e+01 9.95848352e-03 2.56543407e-02\n",
            "  3.31990110e-02 1.02651538e-02 2.54141758e-02 4.97217582e-03\n",
            "  1.08238352e+01 2.29446154e+01 6.97957143e+01 3.58796703e+02\n",
            "  1.31465934e-01 1.64161758e-01 1.40192637e-01 5.34132967e-02\n",
            "  2.73173626e-01 8.52007692e-02]\n",
            " [2.06370370e+01 2.16944444e+01 1.37140741e+02 1.33298519e+03\n",
            "  1.05146296e-01 1.66082963e-01 2.13644444e-01 1.17845556e-01\n",
            "  1.94903704e-01 6.13200000e-02 8.25648148e-01 1.12337778e+00\n",
            "  5.75433333e+00 1.11170000e+02 6.60281481e-03 3.48644444e-02\n",
            "  4.73696296e-02 1.57370370e-02 1.87700000e-02 4.05755556e-03\n",
            "  2.62940741e+01 2.91481481e+01 1.75992593e+02 2.12474074e+03\n",
            "  1.46185185e-01 4.09985185e-01 5.37144444e-01 2.22266667e-01\n",
            "  3.22714815e-01 9.06803704e-02]\n",
            " [1.42535915e+01 1.92270423e+01 9.27804225e+01 6.28288028e+02\n",
            "  9.54411268e-02 1.06978380e-01 8.54185070e-02 4.68967817e-02\n",
            "  1.78531690e-01 6.19233099e-02 3.28974648e-01 1.05350845e+00\n",
            "  2.37411197e+00 2.89978873e+01 5.91565493e-03 2.52222676e-02\n",
            "  3.04496408e-02 1.18227465e-02 1.83224014e-02 3.50061127e-03\n",
            "  1.61629577e+01 2.57029577e+01 1.07030986e+02 8.02656338e+02\n",
            "  1.30619789e-01 2.80657254e-01 2.96050211e-01 1.23123028e-01\n",
            "  2.91061972e-01 8.52479577e-02]\n",
            " [1.93162745e+01 2.18349020e+01 1.27594118e+02 1.16109804e+03\n",
            "  1.00018039e-01 1.46021569e-01 1.72390588e-01 9.75594118e-02\n",
            "  1.93115686e-01 6.02072549e-02 7.04437255e-01 1.23852745e+00\n",
            "  4.92115686e+00 8.52172549e+01 6.77054902e-03 3.23558824e-02\n",
            "  4.40325490e-02 1.61122745e-02 2.17409804e-02 3.87854902e-03\n",
            "  2.32566667e+01 2.89423529e+01 1.55327451e+02 1.64858824e+03\n",
            "  1.39152941e-01 3.56119608e-01 4.47645098e-01 1.86852941e-01\n",
            "  3.15639216e-01 8.54458824e-02]\n",
            " [2.45981818e+01 2.27290909e+01 1.64181818e+02 1.91300000e+03\n",
            "  1.03649091e-01 1.70829091e-01 2.47209091e-01 1.43200909e-01\n",
            "  1.81654545e-01 5.87154545e-02 1.35242727e+00 1.16268182e+00\n",
            "  9.72090909e+00 2.30309091e+02 6.71336364e-03 3.14645455e-02\n",
            "  4.31036364e-02 1.60718182e-02 1.93036364e-02 3.54445455e-03\n",
            "  3.14572727e+01 2.99572727e+01 2.12781818e+02 3.05581818e+03\n",
            "  1.39772727e-01 3.70072727e-01 4.88136364e-01 2.31190909e-01\n",
            "  2.75718182e-01 8.03945455e-02]\n",
            " [1.68307937e+01 2.12817460e+01 1.10741905e+02 8.83846032e+02\n",
            "  1.00440952e-01 1.31018254e-01 1.36654127e-01 7.78849206e-02\n",
            "  1.88255556e-01 6.13303175e-02 5.24522222e-01 1.25485238e+00\n",
            "  3.74192063e+00 5.61680952e+01 6.66706349e-03 2.97470794e-02\n",
            "  3.77938095e-02 1.44852698e-02 1.92429683e-02 3.99904762e-03\n",
            "  1.99730159e+01 2.89068254e+01 1.32763492e+02 1.22764127e+03\n",
            "  1.40812381e-01 3.25326349e-01 3.86844444e-01 1.64186984e-01\n",
            "  3.12282540e-01 8.65871429e-02]\n",
            " [1.21876630e+01 1.81132609e+01 7.83592935e+01 4.57648913e+02\n",
            "  9.28825543e-02 8.01538587e-02 4.58754929e-02 2.61660598e-02\n",
            "  1.74092935e-01 6.23923370e-02 2.76226630e-01 1.19359239e+00\n",
            "  1.96050489e+00 2.05433152e+01 6.75340217e-03 2.04852609e-02\n",
            "  2.40368239e-02 9.58182065e-03 2.02927717e-02 3.32313315e-03\n",
            "  1.34603261e+01 2.42328261e+01 8.75196739e+01 5.54471196e+02\n",
            "  1.26923043e-01 1.96123370e-01 1.79375473e-01 7.85287011e-02\n",
            "  2.79053261e-01 8.02241848e-02]]\n"
          ]
        }
      ]
    },
    {
      "cell_type": "code",
      "metadata": {
        "colab": {
          "base_uri": "https://localhost:8080/",
          "height": 281
        },
        "id": "YOjBkowS6g6M",
        "outputId": "785bd6bf-4113-4e64-9a73-78444622a2d6"
      },
      "source": [
        "plt.scatter(dataset.data[:, 0], dataset.target, c='blue', marker='.')\n",
        "plt.scatter(kmeans.cluster_centers_[:, 0], kmeans.cluster_centers_[:, 1], c='red', marker='+')\n",
        "plt.title('Data points and cluster centroids')\n",
        "plt.show()"
      ],
      "execution_count": 60,
      "outputs": [
        {
          "output_type": "display_data",
          "data": {
            "image/png": "[encoded data removed]",
            "text/plain": [
              "<Figure size 432x288 with 1 Axes>"
            ]
          },
          "metadata": {
            "needs_background": "light"
          }
        }
      ]
    },
    {
      "cell_type": "code",
      "metadata": {
        "colab": {
          "base_uri": "https://localhost:8080/"
        },
        "id": "am0wVjDs7k9L",
        "outputId": "4e775ab3-33c2-48b9-8e67-509e0c09572e"
      },
      "source": [
        "from scipy.stats import mode\n",
        "labels = np.zeros_like(prediction)\n",
        "for i in range(7):\n",
        "  mask = (prediction == i)\n",
        "  labels[mask] = mode(dataset.target[mask])[0]\n",
        "  print(labels[mask])\n",
        "labels"
      ],
      "execution_count": 61,
      "outputs": [
        {
          "output_type": "stream",
          "name": "stdout",
          "text": [
            "[1 1 1 1 1 1 1 1 1 1 1 1 1 1 1 1 1 1 1 1 1 1 1 1 1 1 1 1 1 1 1 1 1 1 1 1 1\n",
            " 1 1 1 1 1 1 1 1 1 1 1 1 1 1 1 1 1 1 1 1 1 1 1 1 1 1 1 1 1 1 1 1 1 1 1 1 1\n",
            " 1 1 1 1 1 1 1 1 1 1 1 1 1 1 1 1 1]\n",
            "[0 0 0 0 0 0 0 0 0 0 0 0 0 0 0 0 0 0 0 0 0 0 0 0 0 0 0]\n",
            "[1 1 1 1 1 1 1 1 1 1 1 1 1 1 1 1 1 1 1 1 1 1 1 1 1 1 1 1 1 1 1 1 1 1 1 1 1\n",
            " 1 1 1 1 1 1 1 1 1 1 1 1 1 1 1 1 1 1 1 1 1 1 1 1 1 1 1 1 1 1 1 1 1 1 1 1 1\n",
            " 1 1 1 1 1 1 1 1 1 1 1 1 1 1 1 1 1 1 1 1 1 1 1 1 1 1 1 1 1 1 1 1 1 1 1 1 1\n",
            " 1 1 1 1 1 1 1 1 1 1 1 1 1 1 1 1 1 1 1 1 1 1 1 1 1 1 1 1 1 1 1]\n",
            "[0 0 0 0 0 0 0 0 0 0 0 0 0 0 0 0 0 0 0 0 0 0 0 0 0 0 0 0 0 0 0 0 0 0 0 0 0\n",
            " 0 0 0 0 0 0 0 0 0 0 0 0 0 0]\n",
            "[0 0 0 0 0 0 0 0 0 0 0]\n",
            "[0 0 0 0 0 0 0 0 0 0 0 0 0 0 0 0 0 0 0 0 0 0 0 0 0 0 0 0 0 0 0 0 0 0 0 0 0\n",
            " 0 0 0 0 0 0 0 0 0 0 0 0 0 0 0 0 0 0 0 0 0 0 0 0 0 0]\n",
            "[1 1 1 1 1 1 1 1 1 1 1 1 1 1 1 1 1 1 1 1 1 1 1 1 1 1 1 1 1 1 1 1 1 1 1 1 1\n",
            " 1 1 1 1 1 1 1 1 1 1 1 1 1 1 1 1 1 1 1 1 1 1 1 1 1 1 1 1 1 1 1 1 1 1 1 1 1\n",
            " 1 1 1 1 1 1 1 1 1 1 1 1 1 1 1 1 1 1 1 1 1 1 1 1 1 1 1 1 1 1 1 1 1 1 1 1 1\n",
            " 1 1 1 1 1 1 1 1 1 1 1 1 1 1 1 1 1 1 1 1 1 1 1 1 1 1 1 1 1 1 1 1 1 1 1 1 1\n",
            " 1 1 1 1 1 1 1 1 1 1 1 1 1 1 1 1 1 1 1 1 1 1 1 1 1 1 1 1 1 1 1 1 1 1 1 1]\n"
          ]
        },
        {
          "output_type": "execute_result",
          "data": {
            "text/plain": [
              "array([0, 0, 0, 1, 0, 1, 0, 1, 1, 1, 0, 0, 0, 1, 1, 1, 0, 0, 0, 1, 1, 1,\n",
              "       1, 0, 0, 0, 1, 0, 0, 0, 0, 1, 0, 0, 0, 0, 1, 1, 1, 1, 1, 1, 0, 1,\n",
              "       1, 0, 1, 1, 1, 1, 1, 1, 1, 0, 1, 1, 0, 1, 1, 1, 1, 1, 1, 1, 1, 1,\n",
              "       1, 1, 1, 1, 0, 1, 0, 1, 1, 0, 1, 0, 0, 1, 1, 1, 0, 0, 1, 0, 1, 0,\n",
              "       1, 1, 1, 1, 1, 1, 1, 0, 1, 1, 1, 1, 1, 1, 1, 1, 1, 1, 1, 1, 0, 1,\n",
              "       1, 1, 1, 1, 1, 1, 1, 0, 0, 0, 1, 0, 0, 1, 1, 1, 1, 0, 1, 0, 1, 0,\n",
              "       0, 1, 0, 1, 1, 1, 1, 1, 1, 0, 1, 1, 1, 1, 1, 1, 1, 1, 1, 1, 1, 1,\n",
              "       1, 1, 0, 0, 1, 1, 1, 0, 0, 1, 0, 1, 1, 0, 0, 1, 1, 1, 0, 1, 1, 1,\n",
              "       1, 0, 1, 1, 0, 0, 0, 1, 1, 1, 0, 1, 1, 1, 1, 1, 1, 1, 1, 1, 1, 0,\n",
              "       0, 1, 1, 0, 0, 0, 1, 1, 1, 0, 1, 1, 0, 1, 0, 0, 1, 1, 1, 1, 0, 0,\n",
              "       1, 1, 1, 0, 1, 1, 1, 1, 1, 1, 0, 1, 1, 0, 1, 1, 0, 0, 1, 0, 1, 1,\n",
              "       1, 1, 0, 1, 1, 1, 1, 1, 0, 1, 0, 0, 0, 1, 0, 1, 0, 0, 0, 0, 0, 1,\n",
              "       0, 0, 1, 1, 1, 1, 1, 1, 0, 1, 0, 1, 1, 0, 1, 1, 0, 1, 0, 0, 1, 1,\n",
              "       1, 1, 1, 1, 1, 1, 1, 1, 1, 1, 1, 1, 1, 1, 0, 1, 0, 1, 1, 1, 1, 1,\n",
              "       1, 1, 1, 1, 1, 1, 1, 1, 1, 0, 1, 1, 1, 0, 1, 0, 1, 1, 1, 1, 0, 0,\n",
              "       0, 1, 1, 1, 1, 0, 1, 0, 1, 0, 1, 1, 1, 0, 1, 1, 1, 1, 1, 1, 1, 1,\n",
              "       0, 0, 1, 1, 1, 1, 1, 1, 1, 1, 1, 0, 1, 0, 0, 1, 0, 0, 0, 1, 0, 0,\n",
              "       1, 1, 1, 1, 1, 1, 1, 1, 1, 1, 1, 1, 1, 1, 1, 0, 1, 1, 0, 0, 1, 1,\n",
              "       1, 1, 1, 1, 0, 1, 1, 1, 1, 1, 1, 1, 0, 1, 1, 1, 1, 1, 1, 1, 1, 0,\n",
              "       1, 1, 1, 1, 1, 1, 1, 1, 1, 1, 1, 1, 1, 1, 0, 0, 1, 1, 1, 1, 1, 1,\n",
              "       1, 0, 1, 1, 0, 1, 0, 1, 1, 0, 1, 0, 1, 1, 1, 1, 1, 1, 1, 1, 0, 0,\n",
              "       1, 1, 1, 1, 1, 1, 0, 1, 1, 1, 1, 1, 1, 1, 1, 1, 1, 1, 1, 1, 1, 1,\n",
              "       1, 1, 1, 0, 1, 0, 1, 0, 0, 1, 1, 1, 1, 1, 0, 0, 1, 1, 1, 0, 1, 1,\n",
              "       1, 1, 1, 1, 1, 1, 1, 1, 1, 1, 0, 0, 1, 1, 1, 0, 1, 1, 1, 1, 1, 1,\n",
              "       1, 1, 1, 1, 1, 0, 1, 0, 1, 1, 1, 1, 1, 1, 1, 1, 1, 1, 1, 1, 1, 1,\n",
              "       1, 1, 1, 1, 1, 1, 1, 1, 1, 1, 1, 1, 1, 0, 0, 0, 0, 0, 1],\n",
              "      dtype=int32)"
            ]
          },
          "metadata": {},
          "execution_count": 61
        }
      ]
    },
    {
      "cell_type": "code",
      "metadata": {
        "colab": {
          "base_uri": "https://localhost:8080/"
        },
        "id": "gmTyRcqH8qkg",
        "outputId": "330cf27d-73fc-4260-bb1c-1e5d39c12f2a"
      },
      "source": [
        "from sklearn.metrics import accuracy_score, confusion_matrix\n",
        "accuracy_score(dataset.target, labels)"
      ],
      "execution_count": 62,
      "outputs": [
        {
          "output_type": "execute_result",
          "data": {
            "text/plain": [
              "0.8840070298769771"
            ]
          },
          "metadata": {},
          "execution_count": 62
        }
      ]
    },
    {
      "cell_type": "code",
      "metadata": {
        "colab": {
          "base_uri": "https://localhost:8080/",
          "height": 296
        },
        "id": "fCb9RLzI8107",
        "outputId": "91213fb0-38af-4a19-dd85-a22310aab2b5"
      },
      "source": [
        "import seaborn as sns\n",
        "\n",
        "mat = confusion_matrix(dataset.target, labels)\n",
        "ax = sns.heatmap(mat.T, square=True, annot=True, cbar=False, xticklabels=dataset.target_names, yticklabels=dataset.target_names)\n",
        "\n",
        "plt.xlabel('true label')\n",
        "plt.ylabel('predicted label')"
      ],
      "execution_count": 63,
      "outputs": [
        {
          "output_type": "execute_result",
          "data": {
            "text/plain": [
              "Text(91.68, 0.5, 'predicted label')"
            ]
          },
          "metadata": {},
          "execution_count": 63
        },
        {
          "output_type": "display_data",
          "data": {
            "image/png": "[encoded data removed]",
            "text/plain": [
              "<Figure size 432x288 with 1 Axes>"
            ]
          },
          "metadata": {
            "needs_background": "light"
          }
        }
      ]
    }
  ]
}