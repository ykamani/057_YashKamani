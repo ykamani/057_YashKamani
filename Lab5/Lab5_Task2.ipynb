{
  "nbformat": 4,
  "nbformat_minor": 0,
  "metadata": {
    "colab": {
      "name": "Untitled2.ipynb",
      "provenance": []
    },
    "kernelspec": {
      "name": "python3",
      "display_name": "Python 3"
    },
    "language_info": {
      "name": "python"
    }
  },
  "cells": [
    {
      "cell_type": "code",
      "metadata": {
        "id": "NrwWmrAlvyDa"
      },
      "source": [
        "import numpy as np\n",
        "import tensorflow.compat.v1 as tf\n",
        "tf.disable_v2_behavior()\n",
        "\n",
        "import matplotlib.pyplot as plt"
      ],
      "execution_count": 2,
      "outputs": []
    },
    {
      "cell_type": "code",
      "metadata": {
        "id": "lv0FrXbqwHsp"
      },
      "source": [
        "# generating dataset\n",
        "def generate_dataset():\n",
        " x_batch = np.linspace(0, 2, 100)\n",
        " y_batch = 1.5 * x_batch + np.random.randn(*x_batch.shape) * 0.2 + 0.5\n",
        " return x_batch, y_batch"
      ],
      "execution_count": 3,
      "outputs": []
    },
    {
      "cell_type": "code",
      "metadata": {
        "id": "faEZtyP4wR3a"
      },
      "source": [
        "# Defining linear regression\n",
        "def linear_regression():\n",
        "  x = tf.placeholder(tf.float32, shape=(None, ), name='x')\n",
        "  y = tf.placeholder(tf.float32, shape=(None, ), name='y')\n",
        "\n",
        "  with tf.variable_scope('lreg') as scope:\n",
        "    w = tf.Variable(np.random.normal(), name='W')\n",
        "    b = tf.Variable(np.random.normal(), name='b')\n",
        "\t\t\n",
        "    y_pred = tf.add(tf.multiply(w, x), b)\n",
        "\n",
        "    loss = tf.reduce_mean(tf.square(y_pred - y))\n",
        "\n",
        "  return x, y, y_pred, loss"
      ],
      "execution_count": 4,
      "outputs": []
    },
    {
      "cell_type": "code",
      "metadata": {
        "id": "wwb-QrEewvNe"
      },
      "source": [
        "def perform():\n",
        "  x_batch, y_batch = generate_dataset()\n",
        "  x, y, y_pred, loss = linear_regression()\n",
        "\n",
        "  optimizer = tf.train.GradientDescentOptimizer(0.1)\n",
        "  train_op = optimizer.minimize(loss)\n",
        "\n",
        "  with tf.Session() as session:\n",
        "    session.run(tf.global_variables_initializer())\n",
        "    feed_dict = {x: x_batch, y: y_batch}\n",
        "\t\t\n",
        "    for i in range(35):\n",
        "      session.run(train_op, feed_dict)\n",
        "      print(i, \"\\tloss:\", loss.eval(feed_dict))\n",
        "\n",
        "    print('\\nPrediction :\\n')\n",
        "    y_pred_batch = session.run(y_pred, {x : x_batch})\n",
        "\n",
        "  plt.scatter(x_batch, y_batch)\n",
        "  plt.plot(x_batch, y_pred_batch, color='red')\n",
        "  plt.xlim(0, 2)\n",
        "  plt.ylim(0, 2)\n",
        "  plt.savefig('plot.png')"
      ],
      "execution_count": 11,
      "outputs": []
    },
    {
      "cell_type": "code",
      "metadata": {
        "colab": {
          "base_uri": "https://localhost:8080/",
          "height": 915
        },
        "id": "io1H8J5ow7d7",
        "outputId": "d3fadc74-f170-43fe-b807-11af54de6b27"
      },
      "source": [
        "perform()"
      ],
      "execution_count": 12,
      "outputs": [
        {
          "output_type": "stream",
          "name": "stdout",
          "text": [
            "0 \tloss: 0.73828214\n",
            "1 \tloss: 0.2621829\n",
            "2 \tloss: 0.11099471\n",
            "3 \tloss: 0.06285115\n",
            "4 \tloss: 0.047396094\n",
            "5 \tloss: 0.042318355\n",
            "6 \tloss: 0.040542178\n",
            "7 \tloss: 0.039823137\n",
            "8 \tloss: 0.039448865\n",
            "9 \tloss: 0.039192885\n",
            "10 \tloss: 0.038982835\n",
            "11 \tloss: 0.03879525\n",
            "12 \tloss: 0.03862221\n",
            "13 \tloss: 0.038460743\n",
            "14 \tloss: 0.03830947\n",
            "15 \tloss: 0.03816758\n",
            "16 \tloss: 0.0380344\n",
            "17 \tloss: 0.03790942\n",
            "18 \tloss: 0.03779209\n",
            "19 \tloss: 0.03768195\n",
            "20 \tloss: 0.03757857\n",
            "21 \tloss: 0.03748152\n",
            "22 \tloss: 0.037390426\n",
            "23 \tloss: 0.03730492\n",
            "24 \tloss: 0.03722464\n",
            "25 \tloss: 0.037149295\n",
            "26 \tloss: 0.037078574\n",
            "27 \tloss: 0.037012175\n",
            "28 \tloss: 0.03694985\n",
            "29 \tloss: 0.036891345\n",
            "30 \tloss: 0.036836434\n",
            "31 \tloss: 0.036784887\n",
            "32 \tloss: 0.036736492\n",
            "33 \tloss: 0.036691066\n",
            "34 \tloss: 0.03664843\n",
            "\n",
            "Prediction :\n",
            "\n"
          ]
        },
        {
          "output_type": "display_data",
          "data": {
            "image/png": "[encoded data removed]",
            "text/plain": [
              "<Figure size 432x288 with 1 Axes>"
            ]
          },
          "metadata": {
            "needs_background": "light"
          }
        }
      ]
    }
  ]
}