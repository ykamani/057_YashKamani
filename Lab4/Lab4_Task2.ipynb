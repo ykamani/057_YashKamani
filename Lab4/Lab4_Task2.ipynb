{
  "nbformat": 4,
  "nbformat_minor": 0,
  "metadata": {
    "colab": {
      "name": "Untitled3.ipynb",
      "provenance": []
    },
    "kernelspec": {
      "name": "python3",
      "display_name": "Python 3"
    },
    "language_info": {
      "name": "python"
    }
  },
  "cells": [
    {
      "cell_type": "code",
      "metadata": {
        "id": "TUagrIWwTMTt"
      },
      "source": [
        "# evaluate logistic regression on the breast cancer dataset with an one-hot encoding\n",
        "from numpy import mean\n",
        "from numpy import std\n",
        "from pandas import read_csv\n",
        "from sklearn.model_selection import train_test_split\n",
        "from sklearn.linear_model import LogisticRegression\n",
        "from sklearn.preprocessing import LabelEncoder\n",
        "from sklearn.preprocessing import OneHotEncoder\n",
        "from sklearn.metrics import accuracy_score"
      ],
      "execution_count": 1,
      "outputs": []
    },
    {
      "cell_type": "code",
      "metadata": {
        "colab": {
          "base_uri": "https://localhost:8080/"
        },
        "id": "lWr9MxOOTach",
        "outputId": "cc8bf1d0-d8f5-49c3-c479-5544f1ee8da7"
      },
      "source": [
        "# define the location of the dataset\n",
        "url = \"https://raw.githubusercontent.com/jbrownlee/Datasets/master/breast-cancer.csv\"\n",
        "\n",
        "# load the dataset\n",
        "dataset = read_csv(url, header=None)\n",
        "\n",
        "# retrieve the array of data\n",
        "data = dataset.values\n",
        "\n",
        "# separate into input and output columns\n",
        "X = data[:, :-1].astype(str)\n",
        "y = data[:, -1].astype(str)\n",
        "\n",
        "print('Input:',X.shape)\n",
        "print('Output:',y.shape)"
      ],
      "execution_count": 2,
      "outputs": [
        {
          "output_type": "stream",
          "name": "stdout",
          "text": [
            "Input: (286, 9)\n",
            "Output: (286,)\n"
          ]
        }
      ]
    },
    {
      "cell_type": "code",
      "metadata": {
        "colab": {
          "base_uri": "https://localhost:8080/"
        },
        "id": "muJxEr-2TkGs",
        "outputId": "b8cdac44-6e55-4878-e0ba-60ee10e305e5"
      },
      "source": [
        "# split the dataset into train and test sets\n",
        "# Roll No. : 057\n",
        "X_train, X_test, y_train, y_test = train_test_split(X, y, test_size=0.40, random_state=57)\n",
        "\n",
        "print(X_train)\n",
        "print(X_test)"
      ],
      "execution_count": 12,
      "outputs": [
        {
          "output_type": "stream",
          "name": "stdout",
          "text": [
            "[[\"'40-49'\" \"'premeno'\" \"'35-39'\" ... \"'left'\" \"'left_low'\" \"'no'\"]\n",
            " [\"'50-59'\" \"'ge40'\" \"'10-14'\" ... \"'left'\" \"'left_low'\" \"'no'\"]\n",
            " [\"'40-49'\" \"'premeno'\" \"'35-39'\" ... \"'right'\" \"'right_up'\" \"'yes'\"]\n",
            " ...\n",
            " [\"'60-69'\" \"'ge40'\" \"'30-34'\" ... \"'right'\" \"'right_up'\" \"'no'\"]\n",
            " [\"'50-59'\" \"'premeno'\" \"'25-29'\" ... \"'right'\" \"'left_up'\" \"'yes'\"]\n",
            " [\"'40-49'\" \"'premeno'\" \"'20-24'\" ... \"'right'\" \"'left_up'\" \"'no'\"]]\n",
            "[[\"'70-79'\" \"'ge40'\" \"'0-4'\" ... \"'left'\" \"'right_low'\" \"'no'\"]\n",
            " [\"'60-69'\" \"'ge40'\" \"'15-19'\" ... \"'right'\" \"'left_up'\" \"'no'\"]\n",
            " [\"'40-49'\" \"'premeno'\" \"'0-4'\" ... \"'right'\" \"'right_low'\" \"'no'\"]\n",
            " ...\n",
            " [\"'50-59'\" \"'ge40'\" \"'30-34'\" ... \"'left'\" 'nan' \"'no'\"]\n",
            " [\"'50-59'\" \"'ge40'\" \"'20-24'\" ... \"'right'\" \"'right_up'\" \"'no'\"]\n",
            " [\"'40-49'\" \"'premeno'\" \"'30-34'\" ... \"'left'\" \"'left_up'\" \"'no'\"]]\n"
          ]
        }
      ]
    },
    {
      "cell_type": "code",
      "metadata": {
        "id": "a1g30FmOUC9p"
      },
      "source": [
        "# one-hot encode input variables\n",
        "onehot_encoder = OneHotEncoder(sparse=False,handle_unknown='ignore')\n",
        "onehot_encoder.fit(X_train)\n",
        "X_train = onehot_encoder.transform(X_train)\n",
        "X_test = onehot_encoder.transform(X_test)\n",
        "\n",
        "# ordinal encode target variable\n",
        "label_encoder = LabelEncoder()\n",
        "label_encoder.fit(y_train)\n",
        "y_train = label_encoder.transform(y_train)\n",
        "y_test = label_encoder.transform(y_test)\n",
        "\n"
      ],
      "execution_count": 13,
      "outputs": []
    },
    {
      "cell_type": "code",
      "metadata": {
        "colab": {
          "base_uri": "https://localhost:8080/"
        },
        "id": "olN4xfNDURAY",
        "outputId": "3d728f69-2152-4d42-e0ae-c1b9030e2118"
      },
      "source": [
        "from sklearn import preprocessing\n",
        "from sklearn.tree import DecisionTreeClassifier\n",
        "#Import scikit-learn metrics module for accuracy calculation\n",
        "from sklearn.metrics  import accuracy_score\n",
        "#Create a Decision Tree Classifier (using Entropy)\n",
        "clf_entropy=DecisionTreeClassifier(criterion=\"entropy\")\n",
        "\n",
        "# Train the model using the training sets\n",
        "clf_entropy.fit(X_train, y_train)\n",
        "pred_test = clf_entropy.predict(X_test)\n",
        "acc= accuracy_score(y_test, pred_test)\n",
        "print(acc)\n"
      ],
      "execution_count": 14,
      "outputs": [
        {
          "output_type": "stream",
          "name": "stdout",
          "text": [
            "0.6782608695652174\n"
          ]
        }
      ]
    },
    {
      "cell_type": "code",
      "metadata": {
        "colab": {
          "base_uri": "https://localhost:8080/"
        },
        "id": "bttXPHWIUsbc",
        "outputId": "a360cef0-668e-4fac-bb87-8da77ffd2835"
      },
      "source": [
        "# Precession and Recall of the model\n",
        "\n",
        "from sklearn.metrics import precision_score\n",
        "from sklearn.metrics import recall_score\n",
        "\n",
        "precision = precision_score(y_test, pred_test)\n",
        "recall = recall_score(y_test, pred_test)\n",
        "\n",
        "print('precision: {}'.format(precision))\n",
        "print('recall: {}'.format(recall))"
      ],
      "execution_count": 15,
      "outputs": [
        {
          "output_type": "stream",
          "name": "stdout",
          "text": [
            "precision: 0.43243243243243246\n",
            "recall: 0.5\n"
          ]
        }
      ]
    }
  ]
}