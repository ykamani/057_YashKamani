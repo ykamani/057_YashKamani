{
  "nbformat": 4,
  "nbformat_minor": 0,
  "metadata": {
    "kernelspec": {
      "display_name": "Python 3",
      "language": "python",
      "name": "python3"
    },
    "language_info": {
      "name": "python",
      "version": "3.6.6",
      "mimetype": "text/x-python",
      "codemirror_mode": {
        "name": "ipython",
        "version": 3
      },
      "pygments_lexer": "ipython3",
      "nbconvert_exporter": "python",
      "file_extension": ".py"
    },
    "colab": {
      "name": "0_logistic_regression.ipynb",
      "provenance": []
    }
  },
  "cells": [
    {
      "cell_type": "code",
      "metadata": {
        "_uuid": "8f2839f25d086af736a60e9eeb907d3b93b6e0e5",
        "_cell_guid": "b1076dfc-b9ad-4769-8c92-a6c4dae69d19",
        "trusted": true,
        "id": "hfV503AtcBDp"
      },
      "source": [
        "#Importing libraries\n",
        "import numpy as np \n",
        "import pandas as pd \n",
        "import io\n",
        "import matplotlib.pyplot as plt"
      ],
      "execution_count": 48,
      "outputs": []
    },
    {
      "cell_type": "code",
      "metadata": {
        "_cell_guid": "79c7e3d0-c299-4dcb-8224-4455121ee9b0",
        "_uuid": "d629ff2d2480ee46fbb7e2d37f6b5fab8052498a",
        "trusted": true,
        "id": "Y4rK9ffYcBEP",
        "colab": {
          "resources": {
            "http://localhost:8080/nbextensions/google.colab/files.js": {
              "data": "Ly8gQ29weXJpZ2h0IDIwMTcgR29vZ2xlIExMQwovLwovLyBMaWNlbnNlZCB1bmRlciB0aGUgQXBhY2hlIExpY2Vuc2UsIFZlcnNpb24gMi4wICh0aGUgIkxpY2Vuc2UiKTsKLy8geW91IG1heSBub3QgdXNlIHRoaXMgZmlsZSBleGNlcHQgaW4gY29tcGxpYW5jZSB3aXRoIHRoZSBMaWNlbnNlLgovLyBZb3UgbWF5IG9idGFpbiBhIGNvcHkgb2YgdGhlIExpY2Vuc2UgYXQKLy8KLy8gICAgICBodHRwOi8vd3d3LmFwYWNoZS5vcmcvbGljZW5zZXMvTElDRU5TRS0yLjAKLy8KLy8gVW5sZXNzIHJlcXVpcmVkIGJ5IGFwcGxpY2FibGUgbGF3IG9yIGFncmVlZCB0byBpbiB3cml0aW5nLCBzb2Z0d2FyZQovLyBkaXN0cmlidXRlZCB1bmRlciB0aGUgTGljZW5zZSBpcyBkaXN0cmlidXRlZCBvbiBhbiAiQVMgSVMiIEJBU0lTLAovLyBXSVRIT1VUIFdBUlJBTlRJRVMgT1IgQ09ORElUSU9OUyBPRiBBTlkgS0lORCwgZWl0aGVyIGV4cHJlc3Mgb3IgaW1wbGllZC4KLy8gU2VlIHRoZSBMaWNlbnNlIGZvciB0aGUgc3BlY2lmaWMgbGFuZ3VhZ2UgZ292ZXJuaW5nIHBlcm1pc3Npb25zIGFuZAovLyBsaW1pdGF0aW9ucyB1bmRlciB0aGUgTGljZW5zZS4KCi8qKgogKiBAZmlsZW92ZXJ2aWV3IEhlbHBlcnMgZm9yIGdvb2dsZS5jb2xhYiBQeXRob24gbW9kdWxlLgogKi8KKGZ1bmN0aW9uKHNjb3BlKSB7CmZ1bmN0aW9uIHNwYW4odGV4dCwgc3R5bGVBdHRyaWJ1dGVzID0ge30pIHsKICBjb25zdCBlbGVtZW50ID0gZG9jdW1lbnQuY3JlYXRlRWxlbWVudCgnc3BhbicpOwogIGVsZW1lbnQudGV4dENvbnRlbnQgPSB0ZXh0OwogIGZvciAoY29uc3Qga2V5IG9mIE9iamVjdC5rZXlzKHN0eWxlQXR0cmlidXRlcykpIHsKICAgIGVsZW1lbnQuc3R5bGVba2V5XSA9IHN0eWxlQXR0cmlidXRlc1trZXldOwogIH0KICByZXR1cm4gZWxlbWVudDsKfQoKLy8gTWF4IG51bWJlciBvZiBieXRlcyB3aGljaCB3aWxsIGJlIHVwbG9hZGVkIGF0IGEgdGltZS4KY29uc3QgTUFYX1BBWUxPQURfU0laRSA9IDEwMCAqIDEwMjQ7CgpmdW5jdGlvbiBfdXBsb2FkRmlsZXMoaW5wdXRJZCwgb3V0cHV0SWQpIHsKICBjb25zdCBzdGVwcyA9IHVwbG9hZEZpbGVzU3RlcChpbnB1dElkLCBvdXRwdXRJZCk7CiAgY29uc3Qgb3V0cHV0RWxlbWVudCA9IGRvY3VtZW50LmdldEVsZW1lbnRCeUlkKG91dHB1dElkKTsKICAvLyBDYWNoZSBzdGVwcyBvbiB0aGUgb3V0cHV0RWxlbWVudCB0byBtYWtlIGl0IGF2YWlsYWJsZSBmb3IgdGhlIG5leHQgY2FsbAogIC8vIHRvIHVwbG9hZEZpbGVzQ29udGludWUgZnJvbSBQeXRob24uCiAgb3V0cHV0RWxlbWVudC5zdGVwcyA9IHN0ZXBzOwoKICByZXR1cm4gX3VwbG9hZEZpbGVzQ29udGludWUob3V0cHV0SWQpOwp9CgovLyBUaGlzIGlzIHJvdWdobHkgYW4gYXN5bmMgZ2VuZXJhdG9yIChub3Qgc3VwcG9ydGVkIGluIHRoZSBicm93c2VyIHlldCksCi8vIHdoZXJlIHRoZXJlIGFyZSBtdWx0aXBsZSBhc3luY2hyb25vdXMgc3RlcHMgYW5kIHRoZSBQeXRob24gc2lkZSBpcyBnb2luZwovLyB0byBwb2xsIGZvciBjb21wbGV0aW9uIG9mIGVhY2ggc3RlcC4KLy8gVGhpcyB1c2VzIGEgUHJvbWlzZSB0byBibG9jayB0aGUgcHl0aG9uIHNpZGUgb24gY29tcGxldGlvbiBvZiBlYWNoIHN0ZXAsCi8vIHRoZW4gcGFzc2VzIHRoZSByZXN1bHQgb2YgdGhlIHByZXZpb3VzIHN0ZXAgYXMgdGhlIGlucHV0IHRvIHRoZSBuZXh0IHN0ZXAuCmZ1bmN0aW9uIF91cGxvYWRGaWxlc0NvbnRpbnVlKG91dHB1dElkKSB7CiAgY29uc3Qgb3V0cHV0RWxlbWVudCA9IGRvY3VtZW50LmdldEVsZW1lbnRCeUlkKG91dHB1dElkKTsKICBjb25zdCBzdGVwcyA9IG91dHB1dEVsZW1lbnQuc3RlcHM7CgogIGNvbnN0IG5leHQgPSBzdGVwcy5uZXh0KG91dHB1dEVsZW1lbnQubGFzdFByb21pc2VWYWx1ZSk7CiAgcmV0dXJuIFByb21pc2UucmVzb2x2ZShuZXh0LnZhbHVlLnByb21pc2UpLnRoZW4oKHZhbHVlKSA9PiB7CiAgICAvLyBDYWNoZSB0aGUgbGFzdCBwcm9taXNlIHZhbHVlIHRvIG1ha2UgaXQgYXZhaWxhYmxlIHRvIHRoZSBuZXh0CiAgICAvLyBzdGVwIG9mIHRoZSBnZW5lcmF0b3IuCiAgICBvdXRwdXRFbGVtZW50Lmxhc3RQcm9taXNlVmFsdWUgPSB2YWx1ZTsKICAgIHJldHVybiBuZXh0LnZhbHVlLnJlc3BvbnNlOwogIH0pOwp9CgovKioKICogR2VuZXJhdG9yIGZ1bmN0aW9uIHdoaWNoIGlzIGNhbGxlZCBiZXR3ZWVuIGVhY2ggYXN5bmMgc3RlcCBvZiB0aGUgdXBsb2FkCiAqIHByb2Nlc3MuCiAqIEBwYXJhbSB7c3RyaW5nfSBpbnB1dElkIEVsZW1lbnQgSUQgb2YgdGhlIGlucHV0IGZpbGUgcGlja2VyIGVsZW1lbnQuCiAqIEBwYXJhbSB7c3RyaW5nfSBvdXRwdXRJZCBFbGVtZW50IElEIG9mIHRoZSBvdXRwdXQgZGlzcGxheS4KICogQHJldHVybiB7IUl0ZXJhYmxlPCFPYmplY3Q+fSBJdGVyYWJsZSBvZiBuZXh0IHN0ZXBzLgogKi8KZnVuY3Rpb24qIHVwbG9hZEZpbGVzU3RlcChpbnB1dElkLCBvdXRwdXRJZCkgewogIGNvbnN0IGlucHV0RWxlbWVudCA9IGRvY3VtZW50LmdldEVsZW1lbnRCeUlkKGlucHV0SWQpOwogIGlucHV0RWxlbWVudC5kaXNhYmxlZCA9IGZhbHNlOwoKICBjb25zdCBvdXRwdXRFbGVtZW50ID0gZG9jdW1lbnQuZ2V0RWxlbWVudEJ5SWQob3V0cHV0SWQpOwogIG91dHB1dEVsZW1lbnQuaW5uZXJIVE1MID0gJyc7CgogIGNvbnN0IHBpY2tlZFByb21pc2UgPSBuZXcgUHJvbWlzZSgocmVzb2x2ZSkgPT4gewogICAgaW5wdXRFbGVtZW50LmFkZEV2ZW50TGlzdGVuZXIoJ2NoYW5nZScsIChlKSA9PiB7CiAgICAgIHJlc29sdmUoZS50YXJnZXQuZmlsZXMpOwogICAgfSk7CiAgfSk7CgogIGNvbnN0IGNhbmNlbCA9IGRvY3VtZW50LmNyZWF0ZUVsZW1lbnQoJ2J1dHRvbicpOwogIGlucHV0RWxlbWVudC5wYXJlbnRFbGVtZW50LmFwcGVuZENoaWxkKGNhbmNlbCk7CiAgY2FuY2VsLnRleHRDb250ZW50ID0gJ0NhbmNlbCB1cGxvYWQnOwogIGNvbnN0IGNhbmNlbFByb21pc2UgPSBuZXcgUHJvbWlzZSgocmVzb2x2ZSkgPT4gewogICAgY2FuY2VsLm9uY2xpY2sgPSAoKSA9PiB7CiAgICAgIHJlc29sdmUobnVsbCk7CiAgICB9OwogIH0pOwoKICAvLyBXYWl0IGZvciB0aGUgdXNlciB0byBwaWNrIHRoZSBmaWxlcy4KICBjb25zdCBmaWxlcyA9IHlpZWxkIHsKICAgIHByb21pc2U6IFByb21pc2UucmFjZShbcGlja2VkUHJvbWlzZSwgY2FuY2VsUHJvbWlzZV0pLAogICAgcmVzcG9uc2U6IHsKICAgICAgYWN0aW9uOiAnc3RhcnRpbmcnLAogICAgfQogIH07CgogIGNhbmNlbC5yZW1vdmUoKTsKCiAgLy8gRGlzYWJsZSB0aGUgaW5wdXQgZWxlbWVudCBzaW5jZSBmdXJ0aGVyIHBpY2tzIGFyZSBub3QgYWxsb3dlZC4KICBpbnB1dEVsZW1lbnQuZGlzYWJsZWQgPSB0cnVlOwoKICBpZiAoIWZpbGVzKSB7CiAgICByZXR1cm4gewogICAgICByZXNwb25zZTogewogICAgICAgIGFjdGlvbjogJ2NvbXBsZXRlJywKICAgICAgfQogICAgfTsKICB9CgogIGZvciAoY29uc3QgZmlsZSBvZiBmaWxlcykgewogICAgY29uc3QgbGkgPSBkb2N1bWVudC5jcmVhdGVFbGVtZW50KCdsaScpOwogICAgbGkuYXBwZW5kKHNwYW4oZmlsZS5uYW1lLCB7Zm9udFdlaWdodDogJ2JvbGQnfSkpOwogICAgbGkuYXBwZW5kKHNwYW4oCiAgICAgICAgYCgke2ZpbGUudHlwZSB8fCAnbi9hJ30pIC0gJHtmaWxlLnNpemV9IGJ5dGVzLCBgICsKICAgICAgICBgbGFzdCBtb2RpZmllZDogJHsKICAgICAgICAgICAgZmlsZS5sYXN0TW9kaWZpZWREYXRlID8gZmlsZS5sYXN0TW9kaWZpZWREYXRlLnRvTG9jYWxlRGF0ZVN0cmluZygpIDoKICAgICAgICAgICAgICAgICAgICAgICAgICAgICAgICAgICAgJ24vYSd9IC0gYCkpOwogICAgY29uc3QgcGVyY2VudCA9IHNwYW4oJzAlIGRvbmUnKTsKICAgIGxpLmFwcGVuZENoaWxkKHBlcmNlbnQpOwoKICAgIG91dHB1dEVsZW1lbnQuYXBwZW5kQ2hpbGQobGkpOwoKICAgIGNvbnN0IGZpbGVEYXRhUHJvbWlzZSA9IG5ldyBQcm9taXNlKChyZXNvbHZlKSA9PiB7CiAgICAgIGNvbnN0IHJlYWRlciA9IG5ldyBGaWxlUmVhZGVyKCk7CiAgICAgIHJlYWRlci5vbmxvYWQgPSAoZSkgPT4gewogICAgICAgIHJlc29sdmUoZS50YXJnZXQucmVzdWx0KTsKICAgICAgfTsKICAgICAgcmVhZGVyLnJlYWRBc0FycmF5QnVmZmVyKGZpbGUpOwogICAgfSk7CiAgICAvLyBXYWl0IGZvciB0aGUgZGF0YSB0byBiZSByZWFkeS4KICAgIGxldCBmaWxlRGF0YSA9IHlpZWxkIHsKICAgICAgcHJvbWlzZTogZmlsZURhdGFQcm9taXNlLAogICAgICByZXNwb25zZTogewogICAgICAgIGFjdGlvbjogJ2NvbnRpbnVlJywKICAgICAgfQogICAgfTsKCiAgICAvLyBVc2UgYSBjaHVua2VkIHNlbmRpbmcgdG8gYXZvaWQgbWVzc2FnZSBzaXplIGxpbWl0cy4gU2VlIGIvNjIxMTU2NjAuCiAgICBsZXQgcG9zaXRpb24gPSAwOwogICAgZG8gewogICAgICBjb25zdCBsZW5ndGggPSBNYXRoLm1pbihmaWxlRGF0YS5ieXRlTGVuZ3RoIC0gcG9zaXRpb24sIE1BWF9QQVlMT0FEX1NJWkUpOwogICAgICBjb25zdCBjaHVuayA9IG5ldyBVaW50OEFycmF5KGZpbGVEYXRhLCBwb3NpdGlvbiwgbGVuZ3RoKTsKICAgICAgcG9zaXRpb24gKz0gbGVuZ3RoOwoKICAgICAgY29uc3QgYmFzZTY0ID0gYnRvYShTdHJpbmcuZnJvbUNoYXJDb2RlLmFwcGx5KG51bGwsIGNodW5rKSk7CiAgICAgIHlpZWxkIHsKICAgICAgICByZXNwb25zZTogewogICAgICAgICAgYWN0aW9uOiAnYXBwZW5kJywKICAgICAgICAgIGZpbGU6IGZpbGUubmFtZSwKICAgICAgICAgIGRhdGE6IGJhc2U2NCwKICAgICAgICB9LAogICAgICB9OwoKICAgICAgbGV0IHBlcmNlbnREb25lID0gZmlsZURhdGEuYnl0ZUxlbmd0aCA9PT0gMCA/CiAgICAgICAgICAxMDAgOgogICAgICAgICAgTWF0aC5yb3VuZCgocG9zaXRpb24gLyBmaWxlRGF0YS5ieXRlTGVuZ3RoKSAqIDEwMCk7CiAgICAgIHBlcmNlbnQudGV4dENvbnRlbnQgPSBgJHtwZXJjZW50RG9uZX0lIGRvbmVgOwoKICAgIH0gd2hpbGUgKHBvc2l0aW9uIDwgZmlsZURhdGEuYnl0ZUxlbmd0aCk7CiAgfQoKICAvLyBBbGwgZG9uZS4KICB5aWVsZCB7CiAgICByZXNwb25zZTogewogICAgICBhY3Rpb246ICdjb21wbGV0ZScsCiAgICB9CiAgfTsKfQoKc2NvcGUuZ29vZ2xlID0gc2NvcGUuZ29vZ2xlIHx8IHt9OwpzY29wZS5nb29nbGUuY29sYWIgPSBzY29wZS5nb29nbGUuY29sYWIgfHwge307CnNjb3BlLmdvb2dsZS5jb2xhYi5fZmlsZXMgPSB7CiAgX3VwbG9hZEZpbGVzLAogIF91cGxvYWRGaWxlc0NvbnRpbnVlLAp9Owp9KShzZWxmKTsK",
              "ok": true,
              "headers": [
                [
                  "content-type",
                  "application/javascript"
                ]
              ],
              "status": 200,
              "status_text": ""
            }
          },
          "base_uri": "https://localhost:8080/",
          "height": 191
        },
        "outputId": "21eb0e2e-318b-4d87-f247-06be40a0799f"
      },
      "source": [
        "# reading the csv file, del 2 columns from the file, checking first few rows of the file\n",
        "from google.colab import files\n",
        "uploaded = files.upload()\n",
        "\n",
        "data = pd.read_csv(io.BytesIO(uploaded['BuyComputer.csv']))\n",
        "\n",
        "data.drop(columns=['User ID',],axis=1,inplace=True)\n",
        "print(data[0:5])\n",
        "data.shape"
      ],
      "execution_count": 49,
      "outputs": [
        {
          "output_type": "display_data",
          "data": {
            "text/html": [
              "\n",
              "     <input type=\"file\" id=\"files-0436c6cc-67d4-4b7a-ad0e-c7441a4f58d9\" name=\"files[]\" multiple disabled\n",
              "        style=\"border:none\" />\n",
              "     <output id=\"result-0436c6cc-67d4-4b7a-ad0e-c7441a4f58d9\">\n",
              "      Upload widget is only available when the cell has been executed in the\n",
              "      current browser session. Please rerun this cell to enable.\n",
              "      </output>\n",
              "      <script src=\"/nbextensions/google.colab/files.js\"></script> "
            ],
            "text/plain": [
              "<IPython.core.display.HTML object>"
            ]
          },
          "metadata": {}
        },
        {
          "output_type": "stream",
          "name": "stdout",
          "text": [
            "Saving BuyComputer.csv to BuyComputer (5).csv\n",
            "   Age  EstimatedSalary  Purchased\n",
            "0   19            19000          0\n",
            "1   35            20000          0\n",
            "2   26            43000          0\n",
            "3   27            57000          0\n",
            "4   19            76000          0\n"
          ]
        },
        {
          "output_type": "execute_result",
          "data": {
            "text/plain": [
              "(400, 3)"
            ]
          },
          "metadata": {},
          "execution_count": 49
        }
      ]
    },
    {
      "cell_type": "code",
      "metadata": {
        "trusted": true,
        "_uuid": "4cb45e28344e7e245ab398e9f4f5272ef21d2129",
        "id": "jwuPgU6_cBE8",
        "colab": {
          "base_uri": "https://localhost:8080/"
        },
        "outputId": "a76a1500-c83f-4537-af57-267c7e69555f"
      },
      "source": [
        "#Declare label as last column in the source file\n",
        "y = data.iloc[:,-1].values\n",
        "y[0:10]"
      ],
      "execution_count": 50,
      "outputs": [
        {
          "output_type": "execute_result",
          "data": {
            "text/plain": [
              "array([0, 0, 0, 0, 0, 0, 0, 1, 0, 0])"
            ]
          },
          "metadata": {},
          "execution_count": 50
        }
      ]
    },
    {
      "cell_type": "code",
      "metadata": {
        "trusted": true,
        "_uuid": "2e7a145fa49435ad9578ec2827f76a70cc99f2e1",
        "id": "2lhBrOp8cBFX",
        "colab": {
          "base_uri": "https://localhost:8080/"
        },
        "outputId": "5a7764fd-9e49-4df4-da10-aef5b9f97dc3"
      },
      "source": [
        "#Declaring X as all columns excluding last\n",
        "X = data.iloc[:,:-1].values\n",
        "X[0:10]\n"
      ],
      "execution_count": 51,
      "outputs": [
        {
          "output_type": "execute_result",
          "data": {
            "text/plain": [
              "array([[    19,  19000],\n",
              "       [    35,  20000],\n",
              "       [    26,  43000],\n",
              "       [    27,  57000],\n",
              "       [    19,  76000],\n",
              "       [    27,  58000],\n",
              "       [    27,  84000],\n",
              "       [    32, 150000],\n",
              "       [    25,  33000],\n",
              "       [    35,  65000]])"
            ]
          },
          "metadata": {},
          "execution_count": 51
        }
      ]
    },
    {
      "cell_type": "code",
      "metadata": {
        "trusted": true,
        "_uuid": "dffb1f3e19e19964995ac827bf55108b5815ff67",
        "id": "t8nwbTn6cBFp",
        "colab": {
          "base_uri": "https://localhost:8080/"
        },
        "outputId": "578c9f78-b2ec-4ce3-e94b-072b4b60265d"
      },
      "source": [
        "# Splitting data\n",
        "# Roll No. : 057\n",
        "from sklearn.model_selection import train_test_split\n",
        "X_train, X_test, y_train, y_test = train_test_split(X, y, test_size = 0.3, random_state = 57)\n",
        "print(X_train.shape)\n",
        "print(y_train.shape)"
      ],
      "execution_count": 52,
      "outputs": [
        {
          "output_type": "stream",
          "name": "stdout",
          "text": [
            "(280, 2)\n",
            "(280,)\n"
          ]
        }
      ]
    },
    {
      "cell_type": "code",
      "metadata": {
        "trusted": true,
        "_uuid": "7d4ed14782e114ae3282f20d3754121398e6d232",
        "id": "U4bUiVVFcBGD"
      },
      "source": [
        "# Sacaling data\n",
        "from sklearn.preprocessing import StandardScaler\n",
        "sc = StandardScaler()\n",
        "X_train = sc.fit_transform(X_train)\n",
        "X_test = sc.transform(X_test)"
      ],
      "execution_count": 53,
      "outputs": []
    },
    {
      "cell_type": "code",
      "metadata": {
        "trusted": true,
        "_uuid": "2ff7415e3e0e0673d59051cfe6154c63d3312a32",
        "id": "W5yGgzqbcBGc",
        "colab": {
          "base_uri": "https://localhost:8080/"
        },
        "outputId": "83f80c64-e40b-4c6e-974e-7e4d66dc80e4"
      },
      "source": [
        "#Variabes to calculate sigmoid function\n",
        "y_pred = []\n",
        "len_x = len(X_train[0])\n",
        "w = []\n",
        "b = 0.2\n",
        "print(len_x)\n",
        "print(len(y_pred))"
      ],
      "execution_count": 54,
      "outputs": [
        {
          "output_type": "stream",
          "name": "stdout",
          "text": [
            "2\n",
            "0\n"
          ]
        }
      ]
    },
    {
      "cell_type": "code",
      "metadata": {
        "trusted": true,
        "_uuid": "a228174207f4631be4f26a0cc05e379f3f58aa56",
        "id": "ZbqwTM0bcBGr",
        "colab": {
          "base_uri": "https://localhost:8080/"
        },
        "outputId": "d12c6072-128f-420d-d402-92b416716b80"
      },
      "source": [
        "entries = len(X_train[:,0])\n",
        "entries"
      ],
      "execution_count": 55,
      "outputs": [
        {
          "output_type": "execute_result",
          "data": {
            "text/plain": [
              "280"
            ]
          },
          "metadata": {},
          "execution_count": 55
        }
      ]
    },
    {
      "cell_type": "code",
      "metadata": {
        "trusted": true,
        "_uuid": "5d4d6e47ee65c9c7404e60fcf8f05c11708546b3",
        "id": "vEV7Nn73cBG7",
        "colab": {
          "base_uri": "https://localhost:8080/"
        },
        "outputId": "4b2980ed-c426-4e49-c722-b7daba789bde"
      },
      "source": [
        "for weights in range(len_x):\n",
        "    w.append(0)\n",
        "w"
      ],
      "execution_count": 56,
      "outputs": [
        {
          "output_type": "execute_result",
          "data": {
            "text/plain": [
              "[0, 0]"
            ]
          },
          "metadata": {},
          "execution_count": 56
        }
      ]
    },
    {
      "cell_type": "code",
      "metadata": {
        "trusted": true,
        "_uuid": "18dbd2196d72527a82d30ab88ed2aa8d10bd01ce",
        "id": "_fAtpylNcBHM"
      },
      "source": [
        "# Sigmoid function\n",
        "def sigmoid(z):\n",
        "  return (1/(1+np.exp(-z)))"
      ],
      "execution_count": 57,
      "outputs": []
    },
    {
      "cell_type": "code",
      "metadata": {
        "trusted": true,
        "_uuid": "daa0f87fdbf98591cb9f51b8dc7157dc399ca827",
        "id": "kfchkScTcBHd"
      },
      "source": [
        "\n",
        "def predict(inputs):\n",
        "    z = np.dot(w,inputs)+b\n",
        "    a = sigmoid(z)\n",
        "    return a"
      ],
      "execution_count": 58,
      "outputs": []
    },
    {
      "cell_type": "code",
      "metadata": {
        "trusted": true,
        "_uuid": "4126f842d072ccd40019cc283b767a014e2ee074",
        "id": "K2ryTgglcBHt"
      },
      "source": [
        "#Loss function\n",
        "def loss_func(y,a):\n",
        "    J = -(y*np.log(a) + (1-y)*np.log(1-a))\n",
        "    return J             "
      ],
      "execution_count": 59,
      "outputs": []
    },
    {
      "cell_type": "code",
      "metadata": {
        "trusted": true,
        "_uuid": "fc0ceb65c69f4ee0c3f28e050744229dc90c621b",
        "id": "1KW3eDpmcBIA"
      },
      "source": [
        "dw = []\n",
        "db = 0\n",
        "J = 0\n",
        "alpha = 0.1\n",
        "for x in range(len_x):\n",
        "    dw.append(0)"
      ],
      "execution_count": 60,
      "outputs": []
    },
    {
      "cell_type": "code",
      "metadata": {
        "trusted": true,
        "_uuid": "e4be38e9b500ae0c5a7134296a3055675c4fb2d8",
        "id": "ipqdFLP3cBIO"
      },
      "source": [
        "#Repeating the process 3000 times\n",
        "for iterations in range(3000):\n",
        "    for i in range(entries):\n",
        "        localx = X_train[i]\n",
        "        a = predict(localx)   \n",
        "        dz = a - y_train[i]\n",
        "        J += loss_func(y_train[i],a)\n",
        "        for j in range(len_x):\n",
        "            dw[j] = dw[j]+(localx[j]*dz)\n",
        "        db += dz\n",
        "    J = J/entries\n",
        "    db = db/entries\n",
        "    for x in range(len_x):\n",
        "        dw[x]=dw[x]/entries\n",
        "    for x in range(len_x):\n",
        "        w[x] = w[x]-(alpha*dw[x])\n",
        "    b = b-(alpha*db)         \n",
        "    J=0"
      ],
      "execution_count": 61,
      "outputs": []
    },
    {
      "cell_type": "code",
      "metadata": {
        "trusted": true,
        "_uuid": "5479ccb6073ed1ea310ef7de01b2935fc3ec400e",
        "id": "7Q585AdrcBIs",
        "colab": {
          "base_uri": "https://localhost:8080/"
        },
        "outputId": "d94c42f2-b50f-49b7-eca3-66f822b756c8"
      },
      "source": [
        "#Print weight\n",
        "print(w)"
      ],
      "execution_count": 62,
      "outputs": [
        {
          "output_type": "stream",
          "name": "stdout",
          "text": [
            "[2.3918552576622325, 1.0875152613120875]\n"
          ]
        }
      ]
    },
    {
      "cell_type": "code",
      "metadata": {
        "trusted": true,
        "_uuid": "a939c247b8a092f74c9843975612daa85c423621",
        "id": "rEiF-bNHcBJB",
        "colab": {
          "base_uri": "https://localhost:8080/"
        },
        "outputId": "f1807981-2a27-4fdf-f77f-566b367b2f7a"
      },
      "source": [
        "#print bias\n",
        "print(b)"
      ],
      "execution_count": 63,
      "outputs": [
        {
          "output_type": "stream",
          "name": "stdout",
          "text": [
            "-1.0947757076566214\n"
          ]
        }
      ]
    },
    {
      "cell_type": "code",
      "metadata": {
        "trusted": true,
        "_uuid": "b7ae24169a21c7ac8ea0787f4a38a0de3e07a6b5",
        "id": "MPt5nUcpcBJR",
        "colab": {
          "base_uri": "https://localhost:8080/"
        },
        "outputId": "b4a7ab1f-d8f3-4a7d-8cb6-47fce32671d5"
      },
      "source": [
        "#predicting the label\n",
        "print(len(y_pred))\n",
        "for x in range(len(y_test)):\n",
        "    y_pred.append(predict(X_test[x]))\n",
        "y_pred[0:10]"
      ],
      "execution_count": 64,
      "outputs": [
        {
          "output_type": "stream",
          "name": "stdout",
          "text": [
            "0\n"
          ]
        },
        {
          "output_type": "execute_result",
          "data": {
            "text/plain": [
              "[0.005347403996431367,\n",
              " 0.4028700418604557,\n",
              " 0.9583752654081036,\n",
              " 0.5387979131825217,\n",
              " 0.04838935082166925,\n",
              " 0.9873433386373572,\n",
              " 0.01562444082492093,\n",
              " 0.06774622191471098,\n",
              " 0.20704227225756364,\n",
              " 0.008641019292893796]"
            ]
          },
          "metadata": {},
          "execution_count": 64
        }
      ]
    },
    {
      "cell_type": "code",
      "metadata": {
        "trusted": true,
        "_uuid": "967ad1b72305ad792a5d50e4d8b8a07632f7b241",
        "scrolled": false,
        "id": "79HPPz7jcBJg",
        "colab": {
          "base_uri": "https://localhost:8080/"
        },
        "outputId": "9691fbab-81cc-497d-ae6e-b92c8ebdd516"
      },
      "source": [
        "#print actual and predicted values in a table\n",
        "print(len(y_pred))\n",
        "for x in range(len(y_pred)-1):\n",
        "    if y_pred[x]>=0.5:\n",
        "        y_pred[x]=1\n",
        "    else:\n",
        "        y_pred[x]=0\n",
        "    print('Actual ',y_test[x],' Predicted ',y_pred[x])"
      ],
      "execution_count": 65,
      "outputs": [
        {
          "output_type": "stream",
          "name": "stdout",
          "text": [
            "120\n",
            "Actual  0  Predicted  0\n",
            "Actual  1  Predicted  0\n",
            "Actual  1  Predicted  1\n",
            "Actual  1  Predicted  1\n",
            "Actual  0  Predicted  0\n",
            "Actual  1  Predicted  1\n",
            "Actual  0  Predicted  0\n",
            "Actual  0  Predicted  0\n",
            "Actual  0  Predicted  0\n",
            "Actual  0  Predicted  0\n",
            "Actual  1  Predicted  1\n",
            "Actual  1  Predicted  1\n",
            "Actual  1  Predicted  1\n",
            "Actual  1  Predicted  1\n",
            "Actual  0  Predicted  0\n",
            "Actual  0  Predicted  0\n",
            "Actual  1  Predicted  1\n",
            "Actual  1  Predicted  1\n",
            "Actual  0  Predicted  0\n",
            "Actual  0  Predicted  0\n",
            "Actual  1  Predicted  0\n",
            "Actual  0  Predicted  0\n",
            "Actual  0  Predicted  0\n",
            "Actual  1  Predicted  1\n",
            "Actual  1  Predicted  1\n",
            "Actual  0  Predicted  0\n",
            "Actual  0  Predicted  0\n",
            "Actual  1  Predicted  1\n",
            "Actual  1  Predicted  0\n",
            "Actual  0  Predicted  0\n",
            "Actual  0  Predicted  1\n",
            "Actual  0  Predicted  0\n",
            "Actual  0  Predicted  0\n",
            "Actual  1  Predicted  0\n",
            "Actual  0  Predicted  1\n",
            "Actual  1  Predicted  0\n",
            "Actual  1  Predicted  1\n",
            "Actual  0  Predicted  0\n",
            "Actual  1  Predicted  1\n",
            "Actual  0  Predicted  0\n",
            "Actual  0  Predicted  0\n",
            "Actual  0  Predicted  0\n",
            "Actual  1  Predicted  1\n",
            "Actual  0  Predicted  0\n",
            "Actual  0  Predicted  0\n",
            "Actual  1  Predicted  1\n",
            "Actual  0  Predicted  0\n",
            "Actual  1  Predicted  0\n",
            "Actual  0  Predicted  0\n",
            "Actual  0  Predicted  0\n",
            "Actual  1  Predicted  0\n",
            "Actual  0  Predicted  1\n",
            "Actual  1  Predicted  1\n",
            "Actual  0  Predicted  0\n",
            "Actual  1  Predicted  1\n",
            "Actual  0  Predicted  0\n",
            "Actual  1  Predicted  1\n",
            "Actual  1  Predicted  1\n",
            "Actual  0  Predicted  0\n",
            "Actual  1  Predicted  0\n",
            "Actual  0  Predicted  0\n",
            "Actual  0  Predicted  0\n",
            "Actual  0  Predicted  0\n",
            "Actual  0  Predicted  0\n",
            "Actual  1  Predicted  1\n",
            "Actual  0  Predicted  0\n",
            "Actual  0  Predicted  0\n",
            "Actual  1  Predicted  1\n",
            "Actual  0  Predicted  0\n",
            "Actual  0  Predicted  0\n",
            "Actual  0  Predicted  0\n",
            "Actual  1  Predicted  1\n",
            "Actual  0  Predicted  0\n",
            "Actual  1  Predicted  1\n",
            "Actual  0  Predicted  0\n",
            "Actual  0  Predicted  1\n",
            "Actual  0  Predicted  0\n",
            "Actual  0  Predicted  0\n",
            "Actual  1  Predicted  1\n",
            "Actual  0  Predicted  0\n",
            "Actual  1  Predicted  1\n",
            "Actual  0  Predicted  0\n",
            "Actual  0  Predicted  1\n",
            "Actual  0  Predicted  0\n",
            "Actual  1  Predicted  1\n",
            "Actual  0  Predicted  0\n",
            "Actual  0  Predicted  0\n",
            "Actual  0  Predicted  0\n",
            "Actual  1  Predicted  0\n",
            "Actual  0  Predicted  0\n",
            "Actual  0  Predicted  0\n",
            "Actual  1  Predicted  0\n",
            "Actual  0  Predicted  0\n",
            "Actual  0  Predicted  0\n",
            "Actual  0  Predicted  0\n",
            "Actual  0  Predicted  0\n",
            "Actual  0  Predicted  0\n",
            "Actual  1  Predicted  1\n",
            "Actual  0  Predicted  0\n",
            "Actual  1  Predicted  1\n",
            "Actual  0  Predicted  0\n",
            "Actual  0  Predicted  1\n",
            "Actual  0  Predicted  0\n",
            "Actual  0  Predicted  0\n",
            "Actual  0  Predicted  0\n",
            "Actual  0  Predicted  0\n",
            "Actual  0  Predicted  0\n",
            "Actual  0  Predicted  0\n",
            "Actual  0  Predicted  0\n",
            "Actual  1  Predicted  1\n",
            "Actual  0  Predicted  0\n",
            "Actual  0  Predicted  0\n",
            "Actual  1  Predicted  1\n",
            "Actual  0  Predicted  0\n",
            "Actual  1  Predicted  1\n",
            "Actual  1  Predicted  0\n",
            "Actual  0  Predicted  0\n",
            "Actual  1  Predicted  1\n",
            "Actual  0  Predicted  0\n"
          ]
        }
      ]
    },
    {
      "cell_type": "code",
      "metadata": {
        "trusted": true,
        "_uuid": "a59807150900082ab876ef0200c6c7f8f93e098c",
        "id": "sdZDj_iVcBJt",
        "colab": {
          "base_uri": "https://localhost:8080/"
        },
        "outputId": "30da1cc6-98bf-4d37-ba39-93d18b35da47"
      },
      "source": [
        "# Calculating accuracy of prediction\n",
        "count = 0\n",
        "for x in range(len(y_pred)):\n",
        "    if(y_pred[x]==y_test[x]):\n",
        "        count=count+1\n",
        "print('Accuracy:',(count/(len(y_pred)))*100)"
      ],
      "execution_count": 66,
      "outputs": [
        {
          "output_type": "stream",
          "name": "stdout",
          "text": [
            "Accuracy: 85.0\n"
          ]
        }
      ]
    },
    {
      "cell_type": "markdown",
      "metadata": {
        "id": "x6nmajpzhAEn"
      },
      "source": [
        "#Using sklearn LogisticRegression model"
      ]
    },
    {
      "cell_type": "code",
      "metadata": {
        "trusted": true,
        "_uuid": "9aaade066015e04f20dd7eb1d37339be75ca3836",
        "_kg_hide-output": true,
        "id": "iG-BK4i9cBKH",
        "colab": {
          "base_uri": "https://localhost:8080/"
        },
        "outputId": "b421cf16-4360-4004-937b-dcb7b15b9782"
      },
      "source": [
        "# Fitting Logistic Regression to the Training set\n",
        "# Roll No. : 057\n",
        "from sklearn.linear_model import LogisticRegression\n",
        "LR = LogisticRegression(random_state = 57)\n",
        "\n",
        "#Fit\n",
        "LR.fit(X_train, y_train)\n",
        "\n",
        "#predicting the test label with LR. Predict always takes X as input\n",
        "\n",
        "print(\"Accuracy : \",LR.score(X_test,y_test),\"\\n\")\n",
        "\n",
        "y_predLR=LR.predict(X_test)\n",
        "\n",
        "for x in range(len(y_pred)):\n",
        "    print('Actual ',y_test[x],' Predicted ',y_predLR[x])\n",
        "\n"
      ],
      "execution_count": 71,
      "outputs": [
        {
          "output_type": "stream",
          "name": "stdout",
          "text": [
            "Accuracy :  0.8666666666666667 \n",
            "\n",
            "Actual  0  Predicted  0\n",
            "Actual  1  Predicted  0\n",
            "Actual  1  Predicted  1\n",
            "Actual  1  Predicted  1\n",
            "Actual  0  Predicted  0\n",
            "Actual  1  Predicted  1\n",
            "Actual  0  Predicted  0\n",
            "Actual  0  Predicted  0\n",
            "Actual  0  Predicted  0\n",
            "Actual  0  Predicted  0\n",
            "Actual  1  Predicted  1\n",
            "Actual  1  Predicted  1\n",
            "Actual  1  Predicted  1\n",
            "Actual  1  Predicted  1\n",
            "Actual  0  Predicted  0\n",
            "Actual  0  Predicted  0\n",
            "Actual  1  Predicted  1\n",
            "Actual  1  Predicted  1\n",
            "Actual  0  Predicted  0\n",
            "Actual  0  Predicted  0\n",
            "Actual  1  Predicted  0\n",
            "Actual  0  Predicted  0\n",
            "Actual  0  Predicted  0\n",
            "Actual  1  Predicted  1\n",
            "Actual  1  Predicted  1\n",
            "Actual  0  Predicted  0\n",
            "Actual  0  Predicted  0\n",
            "Actual  1  Predicted  1\n",
            "Actual  1  Predicted  0\n",
            "Actual  0  Predicted  0\n",
            "Actual  0  Predicted  1\n",
            "Actual  0  Predicted  0\n",
            "Actual  0  Predicted  0\n",
            "Actual  1  Predicted  0\n",
            "Actual  0  Predicted  0\n",
            "Actual  1  Predicted  0\n",
            "Actual  1  Predicted  1\n",
            "Actual  0  Predicted  0\n",
            "Actual  1  Predicted  1\n",
            "Actual  0  Predicted  0\n",
            "Actual  0  Predicted  0\n",
            "Actual  0  Predicted  0\n",
            "Actual  1  Predicted  1\n",
            "Actual  0  Predicted  0\n",
            "Actual  0  Predicted  0\n",
            "Actual  1  Predicted  1\n",
            "Actual  0  Predicted  0\n",
            "Actual  1  Predicted  0\n",
            "Actual  0  Predicted  0\n",
            "Actual  0  Predicted  0\n",
            "Actual  1  Predicted  0\n",
            "Actual  0  Predicted  1\n",
            "Actual  1  Predicted  1\n",
            "Actual  0  Predicted  0\n",
            "Actual  1  Predicted  1\n",
            "Actual  0  Predicted  0\n",
            "Actual  1  Predicted  1\n",
            "Actual  1  Predicted  1\n",
            "Actual  0  Predicted  0\n",
            "Actual  1  Predicted  0\n",
            "Actual  0  Predicted  0\n",
            "Actual  0  Predicted  0\n",
            "Actual  0  Predicted  0\n",
            "Actual  0  Predicted  0\n",
            "Actual  1  Predicted  1\n",
            "Actual  0  Predicted  0\n",
            "Actual  0  Predicted  0\n",
            "Actual  1  Predicted  1\n",
            "Actual  0  Predicted  0\n",
            "Actual  0  Predicted  0\n",
            "Actual  0  Predicted  0\n",
            "Actual  1  Predicted  1\n",
            "Actual  0  Predicted  0\n",
            "Actual  1  Predicted  1\n",
            "Actual  0  Predicted  0\n",
            "Actual  0  Predicted  1\n",
            "Actual  0  Predicted  0\n",
            "Actual  0  Predicted  0\n",
            "Actual  1  Predicted  1\n",
            "Actual  0  Predicted  0\n",
            "Actual  1  Predicted  1\n",
            "Actual  0  Predicted  0\n",
            "Actual  0  Predicted  1\n",
            "Actual  0  Predicted  0\n",
            "Actual  1  Predicted  1\n",
            "Actual  0  Predicted  0\n",
            "Actual  0  Predicted  0\n",
            "Actual  0  Predicted  0\n",
            "Actual  1  Predicted  0\n",
            "Actual  0  Predicted  0\n",
            "Actual  0  Predicted  0\n",
            "Actual  1  Predicted  0\n",
            "Actual  0  Predicted  0\n",
            "Actual  0  Predicted  0\n",
            "Actual  0  Predicted  0\n",
            "Actual  0  Predicted  0\n",
            "Actual  0  Predicted  0\n",
            "Actual  1  Predicted  1\n",
            "Actual  0  Predicted  0\n",
            "Actual  1  Predicted  1\n",
            "Actual  0  Predicted  0\n",
            "Actual  0  Predicted  1\n",
            "Actual  0  Predicted  0\n",
            "Actual  0  Predicted  0\n",
            "Actual  0  Predicted  0\n",
            "Actual  0  Predicted  0\n",
            "Actual  0  Predicted  0\n",
            "Actual  0  Predicted  0\n",
            "Actual  0  Predicted  0\n",
            "Actual  1  Predicted  1\n",
            "Actual  0  Predicted  0\n",
            "Actual  0  Predicted  0\n",
            "Actual  1  Predicted  1\n",
            "Actual  0  Predicted  0\n",
            "Actual  1  Predicted  1\n",
            "Actual  1  Predicted  0\n",
            "Actual  0  Predicted  0\n",
            "Actual  1  Predicted  1\n",
            "Actual  0  Predicted  0\n",
            "Actual  0  Predicted  0\n"
          ]
        }
      ]
    },
    {
      "cell_type": "markdown",
      "metadata": {
        "id": "Y8sYVBu-iSW-"
      },
      "source": [
        ""
      ]
    }
  ]
}